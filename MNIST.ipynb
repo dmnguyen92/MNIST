{
 "cells": [
  {
   "cell_type": "markdown",
   "metadata": {},
   "source": [
    "# Digit recognizer - A simple problem using neural network with Keras \n",
    "### ** Nguyen Dang Minh, PhD **\n",
    "\n",
    "* [**1. Introduction**](#ch1)\n",
    "* [**2. Data preparation**](#ch2)\n",
    "    * [2.1 Import and visualize the data](#ch2.1)\n",
    "    * [2.2 Preprocess the data](#ch2.2)\n",
    "    * [2.3 Data augmentation](#ch2.3)\n",
    "* [**3. Model construction**](#ch3)\n",
    "* [**4. Visualize the results**](#ch4)\n",
    "    "
   ]
  },
  {
   "cell_type": "markdown",
   "metadata": {},
   "source": [
    "<a id=\"ch1\"></a>\n",
    "\n",
    "## 1. Introduction\n",
    "\n",
    "This is the my first deep learning project after I have completed [Andrew Ng 's deep learning specialization](https://www.coursera.org/specializations/deep-learning).\n",
    "\n",
    "The goal of the project is from a handwritten digit, the computer can tell which number it is. The dataset is taken from [Kaggle's Digit Recognizer competition](https://www.kaggle.com/c/digit-recognizer). This is a supervised classification problem whereas the input is an array containing pixel-by-pixel values of 28 $\\times$ 28 images, and the output is one of ten digit values (0-9). There can be multiple approach to this problem. One can consider **clustering** (images of the same digits will belong to the same cluster). However, we will not be able to take full advantage of the training data (the label). One can also use classical classification algorithm, such as [SVM](http://scikit-learn.org/stable/modules/svm.html) or [Random forest](http://scikit-learn.org/stable/modules/generated/sklearn.ensemble.RandomForestClassifier.html). Before learning neural network, I did try solving this problem using SVM (see code [here](https://github.com/dmnguyen92/MNIST/blob/master/svm.py)). The code takes about 1.5 hour to run and can achieve accuracy up to **97%**. Imagine your friend from Singapore writes you his 8-digit phone number (relatively short compared to, say, Germany, 10 numbers). The chance of making the right prediction is 0.97$^8 \\approx$ 78%. This is not a very good result.\n",
    "\n",
    "This time I will use a more powerful tool that is built to deal with images data: a convolutional neural network (conv-net). The code is written using **Keras** with Tensorflow backend. The reason I chose Keras for this project is because it is quite intuitive (compared to **Tensorflow**) and has lots of community support (compared to **PyTorch**). With a relatively small network (2 convolutional layer, 2 dense layer), the performance can reach **99.1%** within 140s.\n",
    "\n",
    "<table class='image'>\n",
    "<img src=\"http://img1.imagilive.com/0717/mnist-sample.png\" ></img>\n",
    "<a id='fig1'><center> The MNIST dataset </center></a>\n",
    "</table>\n",
    "\n",
    "Here in Section 2 I will import, preprocess and augmented the data. The model is constructed in Section 3. The final section is for visualizing and analyzing the result. .\n"
   ]
  },
  {
   "cell_type": "code",
   "execution_count": 14,
   "metadata": {},
   "outputs": [],
   "source": [
    "%matplotlib inline\n",
    "import pandas as pd\n",
    "import numpy as np\n",
    "import matplotlib.pyplot as plt\n",
    "import matplotlib.cm as cm\n",
    "import random\n",
    "from keras.utils import to_categorical\n",
    "from keras.layers import Conv2D, MaxPool2D, Flatten, Dense, Dropout\n",
    "from keras.models import Sequential, load_model\n",
    "from keras.preprocessing.image import ImageDataGenerator\n",
    "from keras.optimizers import Adam, RMSprop\n",
    "from sklearn.model_selection import train_test_split\n",
    "import time\n",
    "\n",
    "random.seed(1)"
   ]
  },
  {
   "cell_type": "markdown",
   "metadata": {},
   "source": [
    "<a id=\"ch2\"></a>\n",
    "\n",
    "## 2. Data preparation"
   ]
  },
  {
   "cell_type": "markdown",
   "metadata": {},
   "source": [
    "<a id=\"ch2.1\"></a>\n",
    "\n",
    "### 2.1 Import and visualize the data"
   ]
  },
  {
   "cell_type": "code",
   "execution_count": 7,
   "metadata": {},
   "outputs": [],
   "source": [
    "dataset_orig = pd.read_csv('Data/train.csv')\n",
    "select_idx = random.sample(range(0,len(dataset_orig)), 2200)\n",
    "X_orig = dataset_orig.iloc[:,1:]\n",
    "Y_orig = dataset_orig.iloc[:,0:1]"
   ]
  },
  {
   "cell_type": "code",
   "execution_count": 4,
   "metadata": {},
   "outputs": [
    {
     "data": {
      "text/plain": [
       "(42000, 784)"
      ]
     },
     "execution_count": 4,
     "metadata": {},
     "output_type": "execute_result"
    }
   ],
   "source": [
    "X_orig.shape"
   ]
  },
  {
   "cell_type": "markdown",
   "metadata": {},
   "source": [
    "The independent variables have 42000 rows corresponding to 42000 training data. Each row is the pixel value (0-254) of a grayscale image with size of 28$\\times$28 that has been flatten to a 1-d array"
   ]
  },
  {
   "cell_type": "code",
   "execution_count": 9,
   "metadata": {},
   "outputs": [
    {
     "data": {
      "text/plain": [
       "(42000, 1)"
      ]
     },
     "execution_count": 9,
     "metadata": {},
     "output_type": "execute_result"
    }
   ],
   "source": [
    "Y_orig.shape"
   ]
  },
  {
   "cell_type": "markdown",
   "metadata": {},
   "source": [
    "Let us see if there is any data missing"
   ]
  },
  {
   "cell_type": "code",
   "execution_count": 5,
   "metadata": {},
   "outputs": [
    {
     "data": {
      "text/plain": [
       "count       784\n",
       "unique        1\n",
       "top       False\n",
       "freq        784\n",
       "dtype: object"
      ]
     },
     "execution_count": 5,
     "metadata": {},
     "output_type": "execute_result"
    }
   ],
   "source": [
    "X_orig.isnull().any().describe()"
   ]
  },
  {
   "cell_type": "code",
   "execution_count": 6,
   "metadata": {},
   "outputs": [
    {
     "data": {
      "text/plain": [
       "count         1\n",
       "unique        1\n",
       "top       False\n",
       "freq          1\n",
       "dtype: object"
      ]
     },
     "execution_count": 6,
     "metadata": {},
     "output_type": "execute_result"
    }
   ],
   "source": [
    "Y_orig.isnull().any().describe()"
   ]
  },
  {
   "cell_type": "markdown",
   "metadata": {},
   "source": [
    "So there is no missing data. Next let's look at the data distribution"
   ]
  },
  {
   "cell_type": "code",
   "execution_count": 10,
   "metadata": {},
   "outputs": [
    {
     "data": {
      "text/plain": [
       "Text(0.5,1,'Training data disribution')"
      ]
     },
     "execution_count": 10,
     "metadata": {},
     "output_type": "execute_result"
    },
    {
     "data": {
      "image/png": "[encoded data removed]",
      "text/plain": [
       "<Figure size 432x288 with 1 Axes>"
      ]
     },
     "metadata": {},
     "output_type": "display_data"
    }
   ],
   "source": [
    "# This is to plot the data distribution\n",
    "N, bins, patches = plt.hist(Y_orig.values, edgecolor='white')\n",
    "colors = cm.rainbow(np.linspace(0, 1, len(patches)))\n",
    "for i in range(len(patches)):\n",
    "    patches[i].set_facecolor(colors[i])\n",
    "plt.title('Training data disribution')"
   ]
  },
  {
   "cell_type": "markdown",
   "metadata": {},
   "source": [
    "<a id=\"ch2.2\"></a>\n",
    "\n",
    "### 2.2 Preprocess the data\n",
    "\n",
    "The first step is to reshape the independent variables back to its image form and normalize it, then perform one-hot encoding on the label data."
   ]
  },
  {
   "cell_type": "code",
   "execution_count": 8,
   "metadata": {},
   "outputs": [
    {
     "data": {
      "image/png": "[encoded data removed]",
      "text/plain": [
       "<Figure size 432x288 with 1 Axes>"
      ]
     },
     "metadata": {},
     "output_type": "display_data"
    }
   ],
   "source": [
    "# Reshape and normalize\n",
    "X_processed = X_orig.values.reshape(-1,28,28,1)\n",
    "X_processed = X_processed/255.\n",
    "\n",
    "# Show an example image\n",
    "idx = 1\n",
    "plt.imshow(X_processed[idx,:,:,0], cmap='gray')\n",
    "plt.title('Image label: %i' %Y_orig.values[idx])\n",
    "\n",
    "# One-hot encoding label data\n",
    "Y_processed = to_categorical(Y_orig.values)"
   ]
  },
  {
   "cell_type": "markdown",
   "metadata": {},
   "source": [
    "Next let's split the data into training and validation set. Here I use 90% for training and 10% for validation."
   ]
  },
  {
   "cell_type": "code",
   "execution_count": 9,
   "metadata": {},
   "outputs": [],
   "source": [
    "X_train, X_val, Y_train, Y_val = train_test_split(X_processed, Y_processed, test_size=0.1, random_state=1)"
   ]
  },
  {
   "cell_type": "markdown",
   "metadata": {},
   "source": [
    "<a id=\"ch2.3\"></a>\n",
    "\n",
    "### 2.3 Data augmentation\n",
    "\n",
    "One technique to improve the quality of the training set is to perform data augmentation, i.e. creating new input image by slightly rotate, shift or zoom-in the original one."
   ]
  },
  {
   "cell_type": "code",
   "execution_count": 10,
   "metadata": {},
   "outputs": [],
   "source": [
    "# Augment the data\n",
    "train_datagen = ImageDataGenerator(rotation_range=15, \n",
    "                                   width_shift_range=0.2,\n",
    "                                   height_shift_range=0.2,\n",
    "                                   zoom_range=0.2)\n",
    "train_datagen.fit(X_train)"
   ]
  },
  {
   "cell_type": "code",
   "execution_count": 24,
   "metadata": {},
   "outputs": [
    {
     "data": {
      "image/png": "[encoded data removed]",
      "text/plain": [
       "<Figure size 360x720 with 6 Axes>"
      ]
     },
     "metadata": {},
     "output_type": "display_data"
    }
   ],
   "source": [
    "# Visualize the augmentation\n",
    "fig = plt.figure(figsize=(5,10))\n",
    "transform_list = random.sample(range(0,len(X_train)),3)\n",
    "for i in range(3):\n",
    "    idx = transform_list[i]\n",
    "    ax = fig.add_subplot(3,2,i*2+1)\n",
    "    plt.imshow(X_train[idx,:,:,0], cmap='gray')\n",
    "    ax.set_title('Original image')\n",
    "    \n",
    "    ax = fig.add_subplot(3,2,i*2+2)\n",
    "    plt.imshow(train_datagen.random_transform(X_train[idx,:,:,:])[:,:,0], cmap='gray')\n",
    "    ax.set_title('Augmented image')\n",
    "    \n",
    "plt.tight_layout()"
   ]
  },
  {
   "cell_type": "markdown",
   "metadata": {},
   "source": [
    "Here the images are augmented by rotating randomly within 15$^\\circ$, shift vertically or horizontally up to 20% of the frame or zoom-in up to 20%."
   ]
  },
  {
   "cell_type": "markdown",
   "metadata": {},
   "source": [
    "<a id=\"ch3\"></a>\n",
    "\n",
    "## 3. Model construction\n",
    "\n",
    "Here our model will consists of 2 convolutional layers to collect the graphical feature of the image, followed by 2 dense layer to do the classification job."
   ]
  },
  {
   "cell_type": "code",
   "execution_count": 16,
   "metadata": {},
   "outputs": [
    {
     "name": "stdout",
     "output_type": "stream",
     "text": [
      "_________________________________________________________________\n",
      "Layer (type)                 Output Shape              Param #   \n",
      "=================================================================\n",
      "conv2d_5 (Conv2D)            (None, 28, 28, 32)        832       \n",
      "_________________________________________________________________\n",
      "max_pooling2d_5 (MaxPooling2 (None, 5, 5, 32)          0         \n",
      "_________________________________________________________________\n",
      "dropout_7 (Dropout)          (None, 5, 5, 32)          0         \n",
      "_________________________________________________________________\n",
      "conv2d_6 (Conv2D)            (None, 5, 5, 64)          18496     \n",
      "_________________________________________________________________\n",
      "max_pooling2d_6 (MaxPooling2 (None, 2, 2, 64)          0         \n",
      "_________________________________________________________________\n",
      "dropout_8 (Dropout)          (None, 2, 2, 64)          0         \n",
      "_________________________________________________________________\n",
      "flatten_3 (Flatten)          (None, 256)               0         \n",
      "_________________________________________________________________\n",
      "dense_5 (Dense)              (None, 256)               65792     \n",
      "_________________________________________________________________\n",
      "dropout_9 (Dropout)          (None, 256)               0         \n",
      "_________________________________________________________________\n",
      "dense_6 (Dense)              (None, 10)                2570      \n",
      "=================================================================\n",
      "Total params: 87,690\n",
      "Trainable params: 87,690\n",
      "Non-trainable params: 0\n",
      "_________________________________________________________________\n"
     ]
    }
   ],
   "source": [
    "model = Sequential()\n",
    "\n",
    "model.add(Conv2D(32,(5,5), padding='Same',activation='relu', input_shape=(28,28,1)))\n",
    "model.add(MaxPool2D(pool_size=(5,5)))\n",
    "model.add(Dropout(0.2))\n",
    "\n",
    "model.add(Conv2D(64,(3,3), padding='Same',activation='relu'))\n",
    "model.add(MaxPool2D(pool_size=(2,2)))\n",
    "model.add(Dropout(0.2))\n",
    "\n",
    "model.add(Flatten())\n",
    "model.add(Dense(256, activation='relu'))\n",
    "model.add(Dropout(0.2))\n",
    "model.add(Dense(10, activation='softmax'))\n",
    "\n",
    "model.summary()"
   ]
  },
  {
   "cell_type": "markdown",
   "metadata": {},
   "source": [
    "The functionality of each layer:\n",
    "* `Conv2D`: Run a convolutional windows throughout the image\n",
    "* `Maxpool2D`: Within a certain window after convolution, pick the pixel with maximum value.  This step helps select important feature and reduce computational cost\n",
    "* `Dropout`: A regularization layer to prevent overfitting\n",
    "* `Flatten`: Flatten the result of the convolutional layer into 1-D array to serve as input for the `Dense` layer\n",
    "* `Dense`: Fully connected neural network that performs the classification job\n",
    "\n",
    "After building the model, the next step is to choose the criteria to fit the model into, and the corresponding optimization algorithm. Here we use `catergorical_crossentropy` as the lost function and `Adam` as the optimizer"
   ]
  },
  {
   "cell_type": "code",
   "execution_count": 17,
   "metadata": {},
   "outputs": [],
   "source": [
    "optimizer = RMSprop()\n",
    "model.compile(optimizer=optimizer, loss='categorical_crossentropy', metrics=['accuracy'])"
   ]
  },
  {
   "cell_type": "markdown",
   "metadata": {},
   "source": [
    "Now is the time to train the model. The model will be trained with 30 epochs and batch size of 256"
   ]
  },
  {
   "cell_type": "code",
   "execution_count": 18,
   "metadata": {},
   "outputs": [
    {
     "name": "stdout",
     "output_type": "stream",
     "text": [
      "Epoch 1/30\n",
      "147/147 [==============================] - 6s 39ms/step - loss: 1.4849 - acc: 0.4876 - val_loss: 0.4448 - val_acc: 0.8902\n",
      "Epoch 2/30\n",
      "147/147 [==============================] - 6s 39ms/step - loss: 0.8263 - acc: 0.7319 - val_loss: 0.2491 - val_acc: 0.9262\n",
      "Epoch 3/30\n",
      "147/147 [==============================] - 6s 42ms/step - loss: 0.5934 - acc: 0.8080 - val_loss: 0.1851 - val_acc: 0.9426\n",
      "Epoch 4/30\n",
      "147/147 [==============================] - 7s 49ms/step - loss: 0.4755 - acc: 0.8471 - val_loss: 0.1564 - val_acc: 0.9510\n",
      "Epoch 5/30\n",
      "147/147 [==============================] - 6s 41ms/step - loss: 0.4036 - acc: 0.8715 - val_loss: 0.1057 - val_acc: 0.9679\n",
      "Epoch 6/30\n",
      "147/147 [==============================] - 7s 45ms/step - loss: 0.3453 - acc: 0.8921 - val_loss: 0.0875 - val_acc: 0.9724\n",
      "Epoch 7/30\n",
      "147/147 [==============================] - 6s 42ms/step - loss: 0.3185 - acc: 0.8986 - val_loss: 0.0892 - val_acc: 0.9714\n",
      "Epoch 8/30\n",
      "147/147 [==============================] - 6s 39ms/step - loss: 0.2817 - acc: 0.9113 - val_loss: 0.0735 - val_acc: 0.9779\n",
      "Epoch 9/30\n",
      "147/147 [==============================] - 6s 42ms/step - loss: 0.2595 - acc: 0.9187 - val_loss: 0.0647 - val_acc: 0.9795\n",
      "Epoch 10/30\n",
      "147/147 [==============================] - 6s 40ms/step - loss: 0.2351 - acc: 0.9261 - val_loss: 0.0647 - val_acc: 0.9805\n",
      "Epoch 11/30\n",
      "147/147 [==============================] - 7s 46ms/step - loss: 0.2326 - acc: 0.9275 - val_loss: 0.0564 - val_acc: 0.9812\n",
      "Epoch 12/30\n",
      "147/147 [==============================] - 6s 40ms/step - loss: 0.2119 - acc: 0.9338 - val_loss: 0.0561 - val_acc: 0.9821\n",
      "Epoch 13/30\n",
      "147/147 [==============================] - 6s 42ms/step - loss: 0.2089 - acc: 0.9343 - val_loss: 0.0621 - val_acc: 0.9795\n",
      "Epoch 14/30\n",
      "147/147 [==============================] - 6s 42ms/step - loss: 0.1976 - acc: 0.9395 - val_loss: 0.0592 - val_acc: 0.9829\n",
      "Epoch 15/30\n",
      "147/147 [==============================] - 6s 41ms/step - loss: 0.1883 - acc: 0.9414 - val_loss: 0.0467 - val_acc: 0.9850\n",
      "Epoch 16/30\n",
      "147/147 [==============================] - 6s 39ms/step - loss: 0.1764 - acc: 0.9438 - val_loss: 0.0483 - val_acc: 0.9852\n",
      "Epoch 17/30\n",
      "147/147 [==============================] - 6s 42ms/step - loss: 0.1760 - acc: 0.9441 - val_loss: 0.0426 - val_acc: 0.9862\n",
      "Epoch 18/30\n",
      "147/147 [==============================] - 6s 42ms/step - loss: 0.1718 - acc: 0.9458 - val_loss: 0.0441 - val_acc: 0.9876\n",
      "Epoch 19/30\n",
      "147/147 [==============================] - 8s 53ms/step - loss: 0.1620 - acc: 0.9487 - val_loss: 0.0418 - val_acc: 0.9867\n",
      "Epoch 20/30\n",
      "147/147 [==============================] - 6s 40ms/step - loss: 0.1593 - acc: 0.9514 - val_loss: 0.0387 - val_acc: 0.9871\n",
      "Epoch 21/30\n",
      "147/147 [==============================] - 6s 41ms/step - loss: 0.1540 - acc: 0.9512 - val_loss: 0.0391 - val_acc: 0.9876\n",
      "Epoch 22/30\n",
      "147/147 [==============================] - 6s 39ms/step - loss: 0.1558 - acc: 0.9530 - val_loss: 0.0406 - val_acc: 0.9867\n",
      "Epoch 23/30\n",
      "147/147 [==============================] - 6s 42ms/step - loss: 0.1489 - acc: 0.9536 - val_loss: 0.0404 - val_acc: 0.9879\n",
      "Epoch 24/30\n",
      "147/147 [==============================] - 7s 47ms/step - loss: 0.1473 - acc: 0.9548 - val_loss: 0.0453 - val_acc: 0.9864\n",
      "Epoch 25/30\n",
      "147/147 [==============================] - 6s 40ms/step - loss: 0.1450 - acc: 0.9546 - val_loss: 0.0369 - val_acc: 0.9883\n",
      "Epoch 26/30\n",
      "147/147 [==============================] - 6s 41ms/step - loss: 0.1425 - acc: 0.9552 - val_loss: 0.0467 - val_acc: 0.9862\n",
      "Epoch 27/30\n",
      "147/147 [==============================] - 6s 39ms/step - loss: 0.1372 - acc: 0.9568 - val_loss: 0.0332 - val_acc: 0.9898\n",
      "Epoch 28/30\n",
      "147/147 [==============================] - 6s 42ms/step - loss: 0.1327 - acc: 0.9582 - val_loss: 0.0336 - val_acc: 0.9905\n",
      "Epoch 29/30\n",
      "147/147 [==============================] - 6s 43ms/step - loss: 0.1348 - acc: 0.9568 - val_loss: 0.0429 - val_acc: 0.9855\n",
      "Epoch 30/30\n",
      "147/147 [==============================] - 6s 40ms/step - loss: 0.1381 - acc: 0.9581 - val_loss: 0.0381 - val_acc: 0.9874\n",
      "Total run time 185.437593 seconds\n"
     ]
    }
   ],
   "source": [
    "epochs = 30\n",
    "batch_size = 256\n",
    "time_start = time.time()\n",
    "history = model.fit_generator(train_datagen.flow(X_train, Y_train, batch_size=batch_size),\n",
    "                              steps_per_epoch=int(len(X_train)/batch_size), epochs=epochs,\n",
    "                              validation_data=(X_val, Y_val))\n",
    "time_end = time.time()\n",
    "print('Total run time %f seconds' %(time_end-time_start))"
   ]
  },
  {
   "cell_type": "markdown",
   "metadata": {},
   "source": [
    "<a id=\"ch4\"></a>\n",
    "\n",
    "## 4. Visualize the results\n",
    "\n",
    "The model takes approximately 185 seconds to run and achieve the accuracy of 99%. This number will slightly change depending on the random state you choose when splitting the change/test set. Now let's see how the model's accuracy developes after each epochs."
   ]
  },
  {
   "cell_type": "code",
   "execution_count": 19,
   "metadata": {},
   "outputs": [
    {
     "data": {
      "image/png": "[encoded data removed]",
      "text/plain": [
       "<Figure size 432x288 with 1 Axes>"
      ]
     },
     "metadata": {},
     "output_type": "display_data"
    }
   ],
   "source": [
    "train_acc = history.history['acc']\n",
    "val_acc = history.history['val_acc']\n",
    "epoch_step = np.linspace(1,epochs,epochs)\n",
    "\n",
    "fig = plt.figure()\n",
    "plt.plot(epoch_step, train_acc, linewidth=2, color='black', label='Training accuracy')\n",
    "plt.plot(epoch_step, val_acc, linewidth=2, color='blue', label='Validation accuracy')\n",
    "plt.xlabel('Epochs')\n",
    "plt.ylabel('Accuracy')\n",
    "plt.legend(loc='best')\n",
    "plt.tight_layout()"
   ]
  },
  {
   "cell_type": "markdown",
   "metadata": {},
   "source": [
    "Now let us take a look at some example where the model gives the **wrong predictions**"
   ]
  },
  {
   "cell_type": "code",
   "execution_count": 50,
   "metadata": {},
   "outputs": [
    {
     "data": {
      "image/png": "[encoded data removed]",
      "text/plain": [
       "<Figure size 720x288 with 8 Axes>"
      ]
     },
     "metadata": {},
     "output_type": "display_data"
    }
   ],
   "source": [
    "# Find out the index of the image where wrong prediction are made\n",
    "Y_pred = model.predict(X_val)\n",
    "Y_pred = Y_pred[:,:].argmax(axis=1)\n",
    "Y_val_orig = Y_val[:,:].argmax(axis=1)\n",
    "idx_error = np.where((Y_pred-Y_val_orig)!=0)\n",
    "\n",
    "# Plot the error images\n",
    "fig = plt.figure(figsize=(10,4))\n",
    "for i in range(8):\n",
    "    idx = idx_error[0][i]\n",
    "    ax = fig.add_subplot(2,4,i+1)\n",
    "    plt.imshow(X_val[idx,:,:,0], cmap='gray')\n",
    "    ax.set_title('Label: %i. Prediction: %i.' %(Y_val_orig[idx], Y_pred[idx]))\n",
    "    \n",
    "plt.tight_layout()"
   ]
  },
  {
   "cell_type": "markdown",
   "metadata": {},
   "source": [
    "In many of these examples, the hand-writting is strongly distorted and it is difficult even for human to make the right prediction."
   ]
  }
 ],
 "metadata": {
  "kernelspec": {
   "display_name": "Python 2",
   "language": "python",
   "name": "python2"
  },
  "language_info": {
   "codemirror_mode": {
    "name": "ipython",
    "version": 2
   },
   "file_extension": ".py",
   "mimetype": "text/x-python",
   "name": "python",
   "nbconvert_exporter": "python",
   "pygments_lexer": "ipython2",
   "version": "2.7.14"
  }
 },
 "nbformat": 4,
 "nbformat_minor": 2
}
