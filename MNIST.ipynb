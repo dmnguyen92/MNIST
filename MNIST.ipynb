{
 "cells": [
  {
   "cell_type": "markdown",
   "metadata": {},
   "source": [
    "# Digit recognizer - A simple problem using neural network with Keras \n",
    "### ** Nguyen Dang Minh, PhD **\n",
    "\n",
    "* [**1. Introduction**](#ch1)\n",
    "* [**2. Data preparation**](#ch2)\n",
    "    * [2.1 Import and visualize the data](#ch2.1)\n",
    "    * [2.2 Preprocess the data](#ch2.2)\n",
    "    * [2.3 Data augmentation](#ch2.3)\n",
    "* [**3. Model construction**](#ch3)\n",
    "* [**4. Visualize the results**](#ch4)\n",
    "    "
   ]
  },
  {
   "cell_type": "markdown",
   "metadata": {},
   "source": [
    "<a id=\"ch1\"></a>\n",
    "\n",
    "## 1. Introduction\n",
    "\n",
    "This is the my first deep learning project after I have completed [Andrew Ng 's deep learning specialization](https://www.coursera.org/specializations/deep-learning).\n",
    "\n",
    "The goal of the project is from a handwritten digit, the computer can tell which number it is. The dataset is taken from [Kaggle's Digit Recognizer competition](https://www.kaggle.com/c/digit-recognizer). This is a supervised classification problem whereas the input is an array containing pixel-by-pixel values of 28 $\\times$ 28 images, and the output is one of ten digit values (0-9). There can be multiple approach to this problem. One can consider **clustering** (images of the same digits will belong to the same cluster). However, we will not be able to take full advantage of the training data (the label). One can also use classical classification algorithm, such as [SVM](http://scikit-learn.org/stable/modules/svm.html) or [Random forest](http://scikit-learn.org/stable/modules/generated/sklearn.ensemble.RandomForestClassifier.html). Before learning neural network, I did try solving this problem using SVM (see code [here](https://github.com/dmnguyen92/MNIST/blob/master/svm.py)). The code takes about 1.5 hour to run and can achieve accuracy up to **97%**. Imagine your friend from Singapore writes you his 8-digit phone number (relatively short compared to, say, Germany, 10 numbers). The chance of making the right prediction is 0.97$^8 \\approx$ 78%. This is not a very good result.\n",
    "\n",
    "This time I will use a more powerful tool that is built to deal with images data: a convolutional neural network (conv-net). The code is written using **Keras** with Tensorflow backend. The reason I chose Keras for this project is because it is quite intuitive (compared to **Tensorflow**) and has lots of community support (compared to **PyTorch**). With a relatively small network (2 convolutional layer, 2 dense layer), the performance can reach **99.1%** within 140s.\n",
    "\n",
    "<table class='image'>\n",
    "<img src='MNIST.png' ></img>\n",
    "<a id='fig1'><center> The MNIST dataset </center></a>\n",
    "</table>\n",
    "\n",
    "Here in Section 2 I will import, preprocess and augmented the data. The model is constructed in Section 3. The final section is for visualizing and analyzing the result. .\n"
   ]
  },
  {
   "cell_type": "code",
   "execution_count": 1,
   "metadata": {},
   "outputs": [
    {
     "name": "stderr",
     "output_type": "stream",
     "text": [
      "Using TensorFlow backend.\n"
     ]
    }
   ],
   "source": [
    "%matplotlib inline\n",
    "import pandas as pd\n",
    "import numpy as np\n",
    "import matplotlib.pyplot as plt\n",
    "import matplotlib.cm as cm\n",
    "from matplotlib import rcParams\n",
    "import random\n",
    "from keras.utils import to_categorical\n",
    "from keras.layers import Conv2D, MaxPool2D, Flatten, Dense, Dropout, BatchNormalization\n",
    "from keras.models import Sequential, load_model\n",
    "from keras.preprocessing.image import ImageDataGenerator\n",
    "from keras.optimizers import Adam, RMSprop\n",
    "from keras.callbacks import EarlyStopping\n",
    "import keras.backend as K\n",
    "from sklearn.model_selection import train_test_split, StratifiedKFold, KFold\n",
    "from sklearn.metrics import accuracy_score\n",
    "from clr_callback import *\n",
    "import time\n",
    "\n",
    "from IPython.display import SVG\n",
    "from keras.utils.vis_utils import model_to_dot\n",
    "from keras.utils import plot_model\n",
    "import gc\n",
    "\n",
    "rcParams['font.size']=14\n",
    "random.seed(1)"
   ]
  },
  {
   "cell_type": "markdown",
   "metadata": {},
   "source": [
    "<a id=\"ch2\"></a>\n",
    "\n",
    "## 2. Data preparation"
   ]
  },
  {
   "cell_type": "markdown",
   "metadata": {},
   "source": [
    "<a id=\"ch2.1\"></a>\n",
    "\n",
    "### 2.1 Import and visualize the data"
   ]
  },
  {
   "cell_type": "code",
   "execution_count": 2,
   "metadata": {},
   "outputs": [],
   "source": [
    "dataset_orig = pd.read_csv('Data/train.csv')\n",
    "select_idx = random.sample(range(0,len(dataset_orig)), 2200)\n",
    "X_orig = dataset_orig.iloc[:,1:]\n",
    "Y_orig = dataset_orig.iloc[:,0:1]"
   ]
  },
  {
   "cell_type": "code",
   "execution_count": 3,
   "metadata": {},
   "outputs": [
    {
     "data": {
      "text/plain": [
       "(42000, 784)"
      ]
     },
     "execution_count": 3,
     "metadata": {},
     "output_type": "execute_result"
    }
   ],
   "source": [
    "X_orig.shape"
   ]
  },
  {
   "cell_type": "markdown",
   "metadata": {},
   "source": [
    "The independent variables have 42000 rows corresponding to 42000 training data. Each row is the pixel value (0-254) of a grayscale image with size of 28$\\times$28 that has been flatten to a 1-d array"
   ]
  },
  {
   "cell_type": "code",
   "execution_count": 4,
   "metadata": {},
   "outputs": [
    {
     "data": {
      "text/plain": [
       "(42000, 1)"
      ]
     },
     "execution_count": 4,
     "metadata": {},
     "output_type": "execute_result"
    }
   ],
   "source": [
    "Y_orig.shape"
   ]
  },
  {
   "cell_type": "markdown",
   "metadata": {},
   "source": [
    "Let us see if there is any data missing"
   ]
  },
  {
   "cell_type": "code",
   "execution_count": 5,
   "metadata": {},
   "outputs": [
    {
     "data": {
      "text/plain": [
       "count       784\n",
       "unique        1\n",
       "top       False\n",
       "freq        784\n",
       "dtype: object"
      ]
     },
     "execution_count": 5,
     "metadata": {},
     "output_type": "execute_result"
    }
   ],
   "source": [
    "X_orig.isnull().any().describe()"
   ]
  },
  {
   "cell_type": "code",
   "execution_count": 6,
   "metadata": {},
   "outputs": [
    {
     "data": {
      "text/plain": [
       "count         1\n",
       "unique        1\n",
       "top       False\n",
       "freq          1\n",
       "dtype: object"
      ]
     },
     "execution_count": 6,
     "metadata": {},
     "output_type": "execute_result"
    }
   ],
   "source": [
    "Y_orig.isnull().any().describe()"
   ]
  },
  {
   "cell_type": "markdown",
   "metadata": {},
   "source": [
    "So there is no missing data. Next let's look at the data distribution"
   ]
  },
  {
   "cell_type": "code",
   "execution_count": 7,
   "metadata": {},
   "outputs": [
    {
     "data": {
      "text/plain": [
       "Text(0.5, 1.0, 'Training data disribution')"
      ]
     },
     "execution_count": 7,
     "metadata": {},
     "output_type": "execute_result"
    },
    {
     "data": {
      "image/png": "[encoded data removed]",
      "text/plain": [
       "<Figure size 432x288 with 1 Axes>"
      ]
     },
     "metadata": {
      "needs_background": "light"
     },
     "output_type": "display_data"
    }
   ],
   "source": [
    "# This is to plot the data distribution\n",
    "N, bins, patches = plt.hist(Y_orig.values, edgecolor='white')\n",
    "colors = cm.rainbow(np.linspace(0, 1, len(patches)))\n",
    "for i in range(len(patches)):\n",
    "    patches[i].set_facecolor(colors[i])\n",
    "plt.title('Training data disribution')"
   ]
  },
  {
   "cell_type": "markdown",
   "metadata": {},
   "source": [
    "<a id=\"ch2.2\"></a>\n",
    "\n",
    "### 2.2 Preprocess the data\n",
    "\n",
    "The first step is to reshape the independent variables back to its image form and normalize it, then perform one-hot encoding on the label data."
   ]
  },
  {
   "cell_type": "code",
   "execution_count": 8,
   "metadata": {},
   "outputs": [
    {
     "data": {
      "image/png": "[encoded data removed]",
      "text/plain": [
       "<Figure size 432x288 with 1 Axes>"
      ]
     },
     "metadata": {
      "needs_background": "light"
     },
     "output_type": "display_data"
    }
   ],
   "source": [
    "# Reshape and normalize\n",
    "X_processed = X_orig.values.reshape(-1,28,28,1)\n",
    "X_processed = X_processed/255.\n",
    "\n",
    "# Show an example image\n",
    "idx = 1\n",
    "plt.imshow(X_processed[idx,:,:,0], cmap='gray')\n",
    "plt.title('Image label: %i' %Y_orig.values[idx])\n",
    "\n",
    "# One-hot encoding label data\n",
    "Y_processed = to_categorical(Y_orig.values)"
   ]
  },
  {
   "cell_type": "markdown",
   "metadata": {},
   "source": [
    "Next let's split the data into training and validation set. Here I use 90% for training and 10% for validation."
   ]
  },
  {
   "cell_type": "code",
   "execution_count": 9,
   "metadata": {},
   "outputs": [],
   "source": [
    "X_train, X_test, Y_train, Y_test = train_test_split(X_processed, Y_processed, test_size=0.1, random_state=1)"
   ]
  },
  {
   "cell_type": "markdown",
   "metadata": {},
   "source": [
    "<a id=\"ch2.3\"></a>\n",
    "\n",
    "### 2.3 Data augmentation\n",
    "\n",
    "One technique to improve the quality of the training set is to perform data augmentation, i.e. creating new input image by slightly rotate, shift or zoom-in the original one."
   ]
  },
  {
   "cell_type": "code",
   "execution_count": 10,
   "metadata": {},
   "outputs": [],
   "source": [
    "# Augment the data\n",
    "train_datagen = ImageDataGenerator(rotation_range=15, \n",
    "                                   width_shift_range=0.2,\n",
    "                                   height_shift_range=0.2,\n",
    "                                   zoom_range=0.2)\n",
    "train_datagen.fit(X_train)"
   ]
  },
  {
   "cell_type": "code",
   "execution_count": 11,
   "metadata": {},
   "outputs": [
    {
     "data": {
      "image/png": "[encoded data removed]",
      "text/plain": [
       "<Figure size 360x720 with 6 Axes>"
      ]
     },
     "metadata": {
      "needs_background": "light"
     },
     "output_type": "display_data"
    }
   ],
   "source": [
    "# Visualize the augmentation\n",
    "fig = plt.figure(figsize=(5,10))\n",
    "transform_list = random.sample(range(0,len(X_train)),3)\n",
    "for i in range(3):\n",
    "    idx = transform_list[i]\n",
    "    ax = fig.add_subplot(3,2,i*2+1)\n",
    "    plt.imshow(X_train[idx,:,:,0], cmap='gray')\n",
    "    ax.set_title('Original image')\n",
    "    \n",
    "    ax = fig.add_subplot(3,2,i*2+2)\n",
    "    plt.imshow(train_datagen.random_transform(X_train[idx,:,:,:])[:,:,0], cmap='gray')\n",
    "    ax.set_title('Augmented image')\n",
    "    \n",
    "plt.tight_layout()"
   ]
  },
  {
   "cell_type": "markdown",
   "metadata": {},
   "source": [
    "Here the images are augmented by rotating randomly within 15$^\\circ$, shift vertically or horizontally up to 20% of the frame or zoom-in up to 20%."
   ]
  },
  {
   "cell_type": "markdown",
   "metadata": {},
   "source": [
    "<a id=\"ch3\"></a>\n",
    "\n",
    "## 3. Model construction\n",
    "\n",
    "Here our model will consists of 2 convolutional layers to collect the graphical feature of the image, followed by 2 dense layer to do the classification job. "
   ]
  },
  {
   "cell_type": "code",
   "execution_count": 12,
   "metadata": {},
   "outputs": [],
   "source": [
    "def model_conv():\n",
    "    model = Sequential()\n",
    "\n",
    "    model.add(Conv2D(32,(5,5), padding='Same',activation='relu', input_shape=(28,28,1)))\n",
    "    model.add(MaxPool2D(pool_size=(5,5)))\n",
    "    model.add(Dropout(0.2))\n",
    "\n",
    "    model.add(Conv2D(64,(3,3), padding='Same',activation='relu'))\n",
    "    model.add(MaxPool2D(pool_size=(2,2)))\n",
    "    model.add(Dropout(0.2))\n",
    "\n",
    "    model.add(Flatten())\n",
    "    model.add(BatchNormalization())\n",
    "    model.add(Dense(256, activation='relu'))\n",
    "    model.add(Dropout(0.2))\n",
    "    model.add(Dense(10, activation='softmax'))\n",
    "    \n",
    "    model.compile(optimizer='adam', loss='categorical_crossentropy', metrics=['accuracy'])\n",
    "\n",
    "    return model"
   ]
  },
  {
   "cell_type": "markdown",
   "metadata": {},
   "source": [
    "The functionality of each layer:\n",
    "* `Conv2D`: Run a convolutional windows throughout the image\n",
    "* `Maxpool2D`: Within a certain window after convolution, pick the pixel with maximum value.  This step helps select important feature and reduce computational cost\n",
    "* `Dropout`: A regularization layer to prevent overfitting\n",
    "* `Flatten`: Flatten the result of the convolutional layer into 1-D array to serve as input for the `Dense` layer\n",
    "* `Dense`: Fully connected neural network that performs the classification job\n",
    "\n",
    "After building the model, the next step is to choose the criteria to fit the model into, and the corresponding optimization algorithm. Here we use `catergorical_crossentropy` as the lost function and `Adam` as the optimizer"
   ]
  },
  {
   "cell_type": "code",
   "execution_count": 13,
   "metadata": {},
   "outputs": [
    {
     "name": "stdout",
     "output_type": "stream",
     "text": [
      "_________________________________________________________________\n",
      "Layer (type)                 Output Shape              Param #   \n",
      "=================================================================\n",
      "conv2d_1 (Conv2D)            (None, 28, 28, 32)        832       \n",
      "_________________________________________________________________\n",
      "max_pooling2d_1 (MaxPooling2 (None, 5, 5, 32)          0         \n",
      "_________________________________________________________________\n",
      "dropout_1 (Dropout)          (None, 5, 5, 32)          0         \n",
      "_________________________________________________________________\n",
      "conv2d_2 (Conv2D)            (None, 5, 5, 64)          18496     \n",
      "_________________________________________________________________\n",
      "max_pooling2d_2 (MaxPooling2 (None, 2, 2, 64)          0         \n",
      "_________________________________________________________________\n",
      "dropout_2 (Dropout)          (None, 2, 2, 64)          0         \n",
      "_________________________________________________________________\n",
      "flatten_1 (Flatten)          (None, 256)               0         \n",
      "_________________________________________________________________\n",
      "batch_normalization_1 (Batch (None, 256)               1024      \n",
      "_________________________________________________________________\n",
      "dense_1 (Dense)              (None, 256)               65792     \n",
      "_________________________________________________________________\n",
      "dropout_3 (Dropout)          (None, 256)               0         \n",
      "_________________________________________________________________\n",
      "dense_2 (Dense)              (None, 10)                2570      \n",
      "=================================================================\n",
      "Total params: 88,714\n",
      "Trainable params: 88,202\n",
      "Non-trainable params: 512\n",
      "_________________________________________________________________\n"
     ]
    }
   ],
   "source": [
    "model_demo = model_conv()\n",
    "model_demo.summary()"
   ]
  },
  {
   "cell_type": "markdown",
   "metadata": {},
   "source": [
    "Now is the time to train the model. We will perform **out-of-fold training**, then averaging the result. Each model will be trained with 30 epochs and batch size of 256. **Early stopping will be applied.**"
   ]
  },
  {
   "cell_type": "code",
   "execution_count": 14,
   "metadata": {},
   "outputs": [],
   "source": [
    "# Model parameters\n",
    "#clr = CyclicLR(base_lr=0.0005, max_lr=0.002, step_size=5., mode='triangular2')\n",
    "epochs = 30\n",
    "batch_size = 256\n",
    "early_stopping = EarlyStopping(patience=5, verbose=1)\n",
    "n_folds = 5"
   ]
  },
  {
   "cell_type": "code",
   "execution_count": 15,
   "metadata": {},
   "outputs": [],
   "source": [
    "# Model list\n",
    "splits = list(KFold(n_splits=n_folds, shuffle=True, random_state=2018).split(X_train, Y_train))\n",
    "models = []\n",
    "for i in range(n_folds):\n",
    "    model_now = model_conv()\n",
    "    models.append(model_now)"
   ]
  },
  {
   "cell_type": "code",
   "execution_count": 16,
   "metadata": {},
   "outputs": [
    {
     "data": {
      "text/plain": [
       "(30240,)"
      ]
     },
     "execution_count": 16,
     "metadata": {},
     "output_type": "execute_result"
    }
   ],
   "source": [
    "splits[0][0].shape"
   ]
  },
  {
   "cell_type": "code",
   "execution_count": 17,
   "metadata": {},
   "outputs": [
    {
     "name": "stdout",
     "output_type": "stream",
     "text": [
      "Epoch 1/30\n",
      "118/118 [==============================] - 13s 111ms/step - loss: 1.2232 - acc: 0.5825 - val_loss: 0.2913 - val_acc: 0.9135\n",
      "Epoch 2/30\n",
      "118/118 [==============================] - 6s 54ms/step - loss: 0.4947 - acc: 0.8407 - val_loss: 0.1468 - val_acc: 0.9569\n",
      "Epoch 3/30\n",
      "118/118 [==============================] - 6s 54ms/step - loss: 0.3567 - acc: 0.8857 - val_loss: 0.1481 - val_acc: 0.9582\n",
      "Epoch 4/30\n",
      "118/118 [==============================] - 6s 55ms/step - loss: 0.3004 - acc: 0.9043 - val_loss: 0.1173 - val_acc: 0.9679\n",
      "Epoch 5/30\n",
      "118/118 [==============================] - 6s 53ms/step - loss: 0.2676 - acc: 0.9176 - val_loss: 0.1015 - val_acc: 0.9710\n",
      "Epoch 6/30\n",
      "118/118 [==============================] - 6s 53ms/step - loss: 0.2411 - acc: 0.9241 - val_loss: 0.1015 - val_acc: 0.9705\n",
      "Epoch 7/30\n",
      "118/118 [==============================] - 6s 53ms/step - loss: 0.2205 - acc: 0.9306 - val_loss: 0.0732 - val_acc: 0.9779\n",
      "Epoch 8/30\n",
      "118/118 [==============================] - 6s 52ms/step - loss: 0.2166 - acc: 0.9308 - val_loss: 0.1023 - val_acc: 0.9708\n",
      "Epoch 9/30\n",
      "118/118 [==============================] - 6s 51ms/step - loss: 0.1970 - acc: 0.9376 - val_loss: 0.0667 - val_acc: 0.9812\n",
      "Epoch 10/30\n",
      "118/118 [==============================] - 6s 52ms/step - loss: 0.1905 - acc: 0.9387 - val_loss: 0.0592 - val_acc: 0.9828\n",
      "Epoch 11/30\n",
      "118/118 [==============================] - 6s 54ms/step - loss: 0.1763 - acc: 0.9443 - val_loss: 0.0836 - val_acc: 0.9771\n",
      "Epoch 12/30\n",
      "118/118 [==============================] - 6s 54ms/step - loss: 0.1752 - acc: 0.9456 - val_loss: 0.0518 - val_acc: 0.9847\n",
      "Epoch 13/30\n",
      "118/118 [==============================] - 6s 53ms/step - loss: 0.1716 - acc: 0.9467 - val_loss: 0.0532 - val_acc: 0.9853\n",
      "Epoch 14/30\n",
      "118/118 [==============================] - 6s 52ms/step - loss: 0.1667 - acc: 0.9471 - val_loss: 0.0516 - val_acc: 0.9849\n",
      "Epoch 15/30\n",
      "118/118 [==============================] - 6s 52ms/step - loss: 0.1627 - acc: 0.9490 - val_loss: 0.0508 - val_acc: 0.9843\n",
      "Epoch 16/30\n",
      "118/118 [==============================] - 6s 53ms/step - loss: 0.1535 - acc: 0.9519 - val_loss: 0.0661 - val_acc: 0.9800\n",
      "Epoch 17/30\n",
      "118/118 [==============================] - 6s 52ms/step - loss: 0.1509 - acc: 0.9522 - val_loss: 0.0562 - val_acc: 0.9841\n",
      "Epoch 18/30\n",
      "118/118 [==============================] - 6s 52ms/step - loss: 0.1498 - acc: 0.9530 - val_loss: 0.0557 - val_acc: 0.9853\n",
      "Epoch 19/30\n",
      "118/118 [==============================] - 6s 53ms/step - loss: 0.1468 - acc: 0.9540 - val_loss: 0.0636 - val_acc: 0.9817\n",
      "Epoch 20/30\n",
      "118/118 [==============================] - 6s 53ms/step - loss: 0.1442 - acc: 0.9535 - val_loss: 0.0441 - val_acc: 0.9877\n",
      "Epoch 21/30\n",
      "118/118 [==============================] - 6s 51ms/step - loss: 0.1514 - acc: 0.9523 - val_loss: 0.0516 - val_acc: 0.9862\n",
      "Epoch 22/30\n",
      "118/118 [==============================] - 6s 52ms/step - loss: 0.1342 - acc: 0.9576 - val_loss: 0.0404 - val_acc: 0.9876\n",
      "Epoch 23/30\n",
      "118/118 [==============================] - 6s 54ms/step - loss: 0.1357 - acc: 0.9582 - val_loss: 0.0544 - val_acc: 0.9837\n",
      "Epoch 24/30\n",
      "118/118 [==============================] - 6s 54ms/step - loss: 0.1274 - acc: 0.9603 - val_loss: 0.0475 - val_acc: 0.9861\n",
      "Epoch 25/30\n",
      "118/118 [==============================] - 7s 56ms/step - loss: 0.1377 - acc: 0.9564 - val_loss: 0.0421 - val_acc: 0.9882\n",
      "Epoch 26/30\n",
      "118/118 [==============================] - 6s 53ms/step - loss: 0.1392 - acc: 0.9546 - val_loss: 0.0619 - val_acc: 0.9825\n",
      "Epoch 27/30\n",
      "118/118 [==============================] - 6s 54ms/step - loss: 0.1286 - acc: 0.9590 - val_loss: 0.0403 - val_acc: 0.9872\n",
      "Epoch 28/30\n",
      "118/118 [==============================] - 6s 53ms/step - loss: 0.1319 - acc: 0.9596 - val_loss: 0.0455 - val_acc: 0.9868\n",
      "Epoch 29/30\n",
      "118/118 [==============================] - 6s 54ms/step - loss: 0.1303 - acc: 0.9592 - val_loss: 0.0423 - val_acc: 0.9866\n",
      "Epoch 30/30\n",
      "118/118 [==============================] - 6s 54ms/step - loss: 0.1279 - acc: 0.9607 - val_loss: 0.0486 - val_acc: 0.9860\n"
     ]
    },
    {
     "data": {
      "image/png": "[encoded data removed]",
      "text/plain": [
       "<Figure size 576x288 with 1 Axes>"
      ]
     },
     "metadata": {
      "needs_background": "light"
     },
     "output_type": "display_data"
    },
    {
     "name": "stdout",
     "output_type": "stream",
     "text": [
      "Epoch 1/30\n",
      "118/118 [==============================] - 7s 58ms/step - loss: 1.3771 - acc: 0.5265 - val_loss: 0.2552 - val_acc: 0.9276\n",
      "Epoch 2/30\n",
      "118/118 [==============================] - 6s 53ms/step - loss: 0.5339 - acc: 0.8268 - val_loss: 0.1381 - val_acc: 0.9619\n",
      "Epoch 3/30\n",
      "118/118 [==============================] - 6s 51ms/step - loss: 0.3726 - acc: 0.8821 - val_loss: 0.1126 - val_acc: 0.9690\n",
      "Epoch 4/30\n",
      "118/118 [==============================] - 6s 52ms/step - loss: 0.3103 - acc: 0.9002 - val_loss: 0.2418 - val_acc: 0.9262\n",
      "Epoch 5/30\n",
      "118/118 [==============================] - 6s 54ms/step - loss: 0.2830 - acc: 0.9096 - val_loss: 0.0804 - val_acc: 0.9770\n",
      "Epoch 6/30\n",
      "118/118 [==============================] - 6s 54ms/step - loss: 0.2457 - acc: 0.9223 - val_loss: 0.0984 - val_acc: 0.9725\n",
      "Epoch 7/30\n",
      "118/118 [==============================] - 6s 54ms/step - loss: 0.2273 - acc: 0.9273 - val_loss: 0.1249 - val_acc: 0.9628\n",
      "Epoch 8/30\n",
      "118/118 [==============================] - 6s 53ms/step - loss: 0.2126 - acc: 0.9336 - val_loss: 0.1007 - val_acc: 0.9708\n",
      "Epoch 9/30\n",
      "118/118 [==============================] - 6s 53ms/step - loss: 0.2060 - acc: 0.9359 - val_loss: 0.0862 - val_acc: 0.9761\n",
      "Epoch 10/30\n",
      "118/118 [==============================] - 6s 53ms/step - loss: 0.1915 - acc: 0.9388 - val_loss: 0.0607 - val_acc: 0.9823\n",
      "Epoch 11/30\n",
      "118/118 [==============================] - 6s 52ms/step - loss: 0.1816 - acc: 0.9412 - val_loss: 0.0776 - val_acc: 0.9782\n",
      "Epoch 12/30\n",
      "118/118 [==============================] - 6s 51ms/step - loss: 0.1768 - acc: 0.9445 - val_loss: 0.0545 - val_acc: 0.9841\n",
      "Epoch 13/30\n",
      "118/118 [==============================] - 6s 51ms/step - loss: 0.1690 - acc: 0.9476 - val_loss: 0.0661 - val_acc: 0.9807\n",
      "Epoch 14/30\n",
      "118/118 [==============================] - 6s 51ms/step - loss: 0.1737 - acc: 0.9465 - val_loss: 0.0554 - val_acc: 0.9829\n",
      "Epoch 15/30\n",
      "118/118 [==============================] - 6s 51ms/step - loss: 0.1630 - acc: 0.9484 - val_loss: 0.0609 - val_acc: 0.9835\n",
      "Epoch 16/30\n",
      "118/118 [==============================] - 6s 52ms/step - loss: 0.1658 - acc: 0.9470 - val_loss: 0.0584 - val_acc: 0.9839\n",
      "Epoch 17/30\n",
      "118/118 [==============================] - 6s 52ms/step - loss: 0.1523 - acc: 0.9516 - val_loss: 0.0607 - val_acc: 0.9831\n",
      "Epoch 00017: early stopping\n"
     ]
    },
    {
     "data": {
      "image/png": "[encoded data removed]",
      "text/plain": [
       "<Figure size 576x288 with 1 Axes>"
      ]
     },
     "metadata": {
      "needs_background": "light"
     },
     "output_type": "display_data"
    },
    {
     "name": "stdout",
     "output_type": "stream",
     "text": [
      "Epoch 1/30\n",
      "118/118 [==============================] - 7s 56ms/step - loss: 1.2683 - acc: 0.5615 - val_loss: 0.3197 - val_acc: 0.9013\n",
      "Epoch 2/30\n",
      "118/118 [==============================] - 6s 54ms/step - loss: 0.5082 - acc: 0.8372 - val_loss: 0.1673 - val_acc: 0.9513\n",
      "Epoch 3/30\n",
      "118/118 [==============================] - 6s 51ms/step - loss: 0.3694 - acc: 0.8826 - val_loss: 0.1527 - val_acc: 0.9561\n",
      "Epoch 4/30\n",
      "118/118 [==============================] - 6s 52ms/step - loss: 0.3114 - acc: 0.9009 - val_loss: 0.1088 - val_acc: 0.9704\n",
      "Epoch 5/30\n",
      "118/118 [==============================] - 6s 53ms/step - loss: 0.2684 - acc: 0.9140 - val_loss: 0.1204 - val_acc: 0.9640\n",
      "Epoch 6/30\n",
      "118/118 [==============================] - 6s 53ms/step - loss: 0.2492 - acc: 0.9207 - val_loss: 0.1033 - val_acc: 0.9726\n",
      "Epoch 7/30\n",
      "118/118 [==============================] - 6s 52ms/step - loss: 0.2235 - acc: 0.9289 - val_loss: 0.0847 - val_acc: 0.9774\n",
      "Epoch 8/30\n",
      "118/118 [==============================] - 6s 53ms/step - loss: 0.2131 - acc: 0.9322 - val_loss: 0.0744 - val_acc: 0.9799\n",
      "Epoch 9/30\n",
      "118/118 [==============================] - 7s 55ms/step - loss: 0.2003 - acc: 0.9362 - val_loss: 0.0623 - val_acc: 0.9835\n",
      "Epoch 10/30\n",
      "118/118 [==============================] - 6s 53ms/step - loss: 0.1975 - acc: 0.9367 - val_loss: 0.0700 - val_acc: 0.9800\n",
      "Epoch 11/30\n",
      "118/118 [==============================] - 6s 53ms/step - loss: 0.1840 - acc: 0.9408 - val_loss: 0.0752 - val_acc: 0.9796\n",
      "Epoch 12/30\n",
      "118/118 [==============================] - 6s 52ms/step - loss: 0.1751 - acc: 0.9435 - val_loss: 0.0656 - val_acc: 0.9815\n",
      "Epoch 13/30\n",
      "118/118 [==============================] - 6s 52ms/step - loss: 0.1702 - acc: 0.9454 - val_loss: 0.0789 - val_acc: 0.9774\n",
      "Epoch 14/30\n",
      "118/118 [==============================] - 6s 51ms/step - loss: 0.1762 - acc: 0.9442 - val_loss: 0.0544 - val_acc: 0.9833\n",
      "Epoch 15/30\n",
      "118/118 [==============================] - 6s 51ms/step - loss: 0.1598 - acc: 0.9494 - val_loss: 0.0494 - val_acc: 0.9857\n",
      "Epoch 16/30\n",
      "118/118 [==============================] - 6s 51ms/step - loss: 0.1566 - acc: 0.9511 - val_loss: 0.0713 - val_acc: 0.9799\n",
      "Epoch 17/30\n",
      "118/118 [==============================] - 6s 52ms/step - loss: 0.1538 - acc: 0.9516 - val_loss: 0.0573 - val_acc: 0.9829\n",
      "Epoch 18/30\n",
      "118/118 [==============================] - 6s 52ms/step - loss: 0.1535 - acc: 0.9523 - val_loss: 0.0582 - val_acc: 0.9835\n",
      "Epoch 19/30\n",
      "118/118 [==============================] - 6s 52ms/step - loss: 0.1548 - acc: 0.9515 - val_loss: 0.0706 - val_acc: 0.9792\n",
      "Epoch 20/30\n",
      "118/118 [==============================] - 6s 54ms/step - loss: 0.1437 - acc: 0.9536 - val_loss: 0.0452 - val_acc: 0.9869\n",
      "Epoch 21/30\n",
      "118/118 [==============================] - 6s 54ms/step - loss: 0.1455 - acc: 0.9569 - val_loss: 0.0556 - val_acc: 0.9837\n",
      "Epoch 22/30\n",
      "118/118 [==============================] - 6s 53ms/step - loss: 0.1463 - acc: 0.9524 - val_loss: 0.0618 - val_acc: 0.9823\n",
      "Epoch 23/30\n",
      "118/118 [==============================] - 6s 53ms/step - loss: 0.1384 - acc: 0.9562 - val_loss: 0.0478 - val_acc: 0.9857\n",
      "Epoch 24/30\n",
      "118/118 [==============================] - 6s 52ms/step - loss: 0.1377 - acc: 0.9559 - val_loss: 0.0467 - val_acc: 0.9858\n",
      "Epoch 25/30\n",
      "118/118 [==============================] - 6s 54ms/step - loss: 0.1309 - acc: 0.9583 - val_loss: 0.0584 - val_acc: 0.9835\n",
      "Epoch 00025: early stopping\n"
     ]
    },
    {
     "data": {
      "image/png": "[encoded data removed]",
      "text/plain": [
       "<Figure size 576x288 with 1 Axes>"
      ]
     },
     "metadata": {
      "needs_background": "light"
     },
     "output_type": "display_data"
    },
    {
     "name": "stdout",
     "output_type": "stream",
     "text": [
      "Epoch 1/30\n",
      "118/118 [==============================] - 7s 55ms/step - loss: 1.2359 - acc: 0.5772 - val_loss: 0.2116 - val_acc: 0.9402\n",
      "Epoch 2/30\n",
      "118/118 [==============================] - 6s 53ms/step - loss: 0.4957 - acc: 0.8385 - val_loss: 0.1334 - val_acc: 0.9583\n",
      "Epoch 3/30\n",
      "118/118 [==============================] - 6s 52ms/step - loss: 0.3583 - acc: 0.8855 - val_loss: 0.1898 - val_acc: 0.9468\n",
      "Epoch 4/30\n",
      "118/118 [==============================] - 7s 57ms/step - loss: 0.2997 - acc: 0.9045 - val_loss: 0.1062 - val_acc: 0.9665\n",
      "Epoch 5/30\n",
      "118/118 [==============================] - 6s 53ms/step - loss: 0.2678 - acc: 0.9154 - val_loss: 0.1214 - val_acc: 0.9648\n",
      "Epoch 6/30\n",
      "118/118 [==============================] - 6s 52ms/step - loss: 0.2433 - acc: 0.9224 - val_loss: 0.1052 - val_acc: 0.9688\n",
      "Epoch 7/30\n",
      "118/118 [==============================] - 7s 58ms/step - loss: 0.2235 - acc: 0.9305 - val_loss: 0.0775 - val_acc: 0.9778\n",
      "Epoch 8/30\n",
      "118/118 [==============================] - 7s 57ms/step - loss: 0.2124 - acc: 0.9320 - val_loss: 0.0804 - val_acc: 0.9786\n",
      "Epoch 9/30\n",
      "118/118 [==============================] - 6s 54ms/step - loss: 0.1958 - acc: 0.9381 - val_loss: 0.0757 - val_acc: 0.9800\n",
      "Epoch 10/30\n",
      "118/118 [==============================] - 6s 54ms/step - loss: 0.1923 - acc: 0.9384 - val_loss: 0.0812 - val_acc: 0.9762\n",
      "Epoch 11/30\n",
      "118/118 [==============================] - 6s 55ms/step - loss: 0.1822 - acc: 0.9420 - val_loss: 0.0826 - val_acc: 0.9776\n",
      "Epoch 12/30\n",
      "118/118 [==============================] - 6s 54ms/step - loss: 0.1736 - acc: 0.9444 - val_loss: 0.0726 - val_acc: 0.9807\n",
      "Epoch 13/30\n",
      "118/118 [==============================] - 6s 54ms/step - loss: 0.1682 - acc: 0.9465 - val_loss: 0.0550 - val_acc: 0.9851\n",
      "Epoch 14/30\n",
      "118/118 [==============================] - 6s 53ms/step - loss: 0.1695 - acc: 0.9487 - val_loss: 0.0609 - val_acc: 0.9840\n",
      "Epoch 15/30\n",
      "118/118 [==============================] - 6s 54ms/step - loss: 0.1589 - acc: 0.9500 - val_loss: 0.0545 - val_acc: 0.9837\n",
      "Epoch 16/30\n",
      "118/118 [==============================] - 6s 54ms/step - loss: 0.1595 - acc: 0.9495 - val_loss: 0.0800 - val_acc: 0.9767\n",
      "Epoch 17/30\n",
      "118/118 [==============================] - 6s 54ms/step - loss: 0.1506 - acc: 0.9527 - val_loss: 0.0749 - val_acc: 0.9779\n",
      "Epoch 18/30\n",
      "118/118 [==============================] - 6s 53ms/step - loss: 0.1522 - acc: 0.9521 - val_loss: 0.0577 - val_acc: 0.9839\n",
      "Epoch 19/30\n",
      "118/118 [==============================] - 6s 53ms/step - loss: 0.1498 - acc: 0.9522 - val_loss: 0.0554 - val_acc: 0.9856\n",
      "Epoch 20/30\n",
      "118/118 [==============================] - 6s 54ms/step - loss: 0.1566 - acc: 0.9500 - val_loss: 0.0445 - val_acc: 0.9874\n",
      "Epoch 21/30\n",
      "118/118 [==============================] - 6s 53ms/step - loss: 0.1447 - acc: 0.9550 - val_loss: 0.0547 - val_acc: 0.9848\n",
      "Epoch 22/30\n",
      "118/118 [==============================] - 6s 54ms/step - loss: 0.1381 - acc: 0.9560 - val_loss: 0.0593 - val_acc: 0.9835\n",
      "Epoch 23/30\n",
      "118/118 [==============================] - 6s 54ms/step - loss: 0.1360 - acc: 0.9584 - val_loss: 0.0467 - val_acc: 0.9872\n",
      "Epoch 24/30\n",
      "118/118 [==============================] - 6s 54ms/step - loss: 0.1312 - acc: 0.9588 - val_loss: 0.0539 - val_acc: 0.9841\n",
      "Epoch 25/30\n",
      "118/118 [==============================] - 7s 58ms/step - loss: 0.1301 - acc: 0.9598 - val_loss: 0.0577 - val_acc: 0.9832\n",
      "Epoch 00025: early stopping\n"
     ]
    },
    {
     "data": {
      "image/png": "[encoded data removed]",
      "text/plain": [
       "<Figure size 576x288 with 1 Axes>"
      ]
     },
     "metadata": {
      "needs_background": "light"
     },
     "output_type": "display_data"
    },
    {
     "name": "stdout",
     "output_type": "stream",
     "text": [
      "Epoch 1/30\n",
      "118/118 [==============================] - 7s 62ms/step - loss: 1.2197 - acc: 0.5864 - val_loss: 0.2417 - val_acc: 0.9259\n",
      "Epoch 2/30\n",
      "118/118 [==============================] - 7s 57ms/step - loss: 0.4804 - acc: 0.8434 - val_loss: 0.1393 - val_acc: 0.9608\n",
      "Epoch 3/30\n",
      "118/118 [==============================] - 7s 55ms/step - loss: 0.3460 - acc: 0.8904 - val_loss: 0.1116 - val_acc: 0.9694\n",
      "Epoch 4/30\n",
      "118/118 [==============================] - 7s 56ms/step - loss: 0.2854 - acc: 0.9096 - val_loss: 0.1129 - val_acc: 0.9680\n",
      "Epoch 5/30\n",
      "118/118 [==============================] - 7s 56ms/step - loss: 0.2642 - acc: 0.9170 - val_loss: 0.0900 - val_acc: 0.9743\n",
      "Epoch 6/30\n",
      "118/118 [==============================] - 6s 55ms/step - loss: 0.2382 - acc: 0.9239 - val_loss: 0.0861 - val_acc: 0.9780\n",
      "Epoch 7/30\n",
      "118/118 [==============================] - 7s 56ms/step - loss: 0.2253 - acc: 0.9284 - val_loss: 0.1216 - val_acc: 0.9668\n",
      "Epoch 8/30\n",
      "118/118 [==============================] - 6s 55ms/step - loss: 0.2087 - acc: 0.9335 - val_loss: 0.0715 - val_acc: 0.9808\n",
      "Epoch 9/30\n",
      "118/118 [==============================] - 7s 55ms/step - loss: 0.1916 - acc: 0.9401 - val_loss: 0.0770 - val_acc: 0.9788\n",
      "Epoch 10/30\n",
      "118/118 [==============================] - 6s 54ms/step - loss: 0.1910 - acc: 0.9405 - val_loss: 0.0689 - val_acc: 0.9806\n",
      "Epoch 11/30\n",
      "118/118 [==============================] - 6s 55ms/step - loss: 0.1813 - acc: 0.9434 - val_loss: 0.0595 - val_acc: 0.9833\n",
      "Epoch 12/30\n",
      "118/118 [==============================] - 6s 54ms/step - loss: 0.1793 - acc: 0.9422 - val_loss: 0.0809 - val_acc: 0.9799\n",
      "Epoch 13/30\n",
      "118/118 [==============================] - 6s 55ms/step - loss: 0.1636 - acc: 0.9472 - val_loss: 0.0547 - val_acc: 0.9844\n",
      "Epoch 14/30\n",
      "118/118 [==============================] - 6s 54ms/step - loss: 0.1636 - acc: 0.9475 - val_loss: 0.0652 - val_acc: 0.9829\n",
      "Epoch 15/30\n",
      "118/118 [==============================] - 6s 55ms/step - loss: 0.1620 - acc: 0.9491 - val_loss: 0.0608 - val_acc: 0.9840\n",
      "Epoch 16/30\n",
      "118/118 [==============================] - 6s 54ms/step - loss: 0.1580 - acc: 0.9508 - val_loss: 0.0501 - val_acc: 0.9869\n",
      "Epoch 17/30\n",
      "118/118 [==============================] - 6s 54ms/step - loss: 0.1583 - acc: 0.9513 - val_loss: 0.0624 - val_acc: 0.9827\n",
      "Epoch 18/30\n",
      "118/118 [==============================] - 6s 54ms/step - loss: 0.1502 - acc: 0.9526 - val_loss: 0.0472 - val_acc: 0.9878\n",
      "Epoch 19/30\n",
      "118/118 [==============================] - 6s 54ms/step - loss: 0.1481 - acc: 0.9540 - val_loss: 0.0616 - val_acc: 0.9837\n",
      "Epoch 20/30\n",
      "118/118 [==============================] - 6s 54ms/step - loss: 0.1418 - acc: 0.9553 - val_loss: 0.0444 - val_acc: 0.9866\n",
      "Epoch 21/30\n",
      "118/118 [==============================] - 6s 55ms/step - loss: 0.1393 - acc: 0.9552 - val_loss: 0.0389 - val_acc: 0.9881\n",
      "Epoch 22/30\n",
      "118/118 [==============================] - 6s 54ms/step - loss: 0.1407 - acc: 0.9571 - val_loss: 0.0553 - val_acc: 0.9839\n",
      "Epoch 23/30\n",
      "118/118 [==============================] - 6s 54ms/step - loss: 0.1369 - acc: 0.9568 - val_loss: 0.0559 - val_acc: 0.9849\n",
      "Epoch 24/30\n",
      "118/118 [==============================] - 6s 54ms/step - loss: 0.1340 - acc: 0.9574 - val_loss: 0.0742 - val_acc: 0.9791\n",
      "Epoch 25/30\n",
      "118/118 [==============================] - 7s 56ms/step - loss: 0.1303 - acc: 0.9586 - val_loss: 0.0657 - val_acc: 0.9823\n",
      "Epoch 26/30\n",
      "118/118 [==============================] - 7s 56ms/step - loss: 0.1292 - acc: 0.9594 - val_loss: 0.0408 - val_acc: 0.9878\n",
      "Epoch 00026: early stopping\n"
     ]
    },
    {
     "data": {
      "image/png": "[encoded data removed]",
      "text/plain": [
       "<Figure size 576x288 with 1 Axes>"
      ]
     },
     "metadata": {
      "needs_background": "light"
     },
     "output_type": "display_data"
    },
    {
     "name": "stdout",
     "output_type": "stream",
     "text": [
      "Total run time 789.700396 seconds\n"
     ]
    }
   ],
   "source": [
    "# Fitting\n",
    "time_start = time.time()\n",
    "for i in range(n_folds):\n",
    "    X_train0 = X_train[splits[0][0]]\n",
    "    Y_train0 = Y_train[splits[0][0]]\n",
    "    X_val0 = X_train[splits[0][1]]\n",
    "    Y_val0 = Y_train[splits[0][1]]\n",
    "    hist = models[i].fit_generator(train_datagen.flow(X_train0, Y_train0, batch_size=batch_size),\n",
    "                                      steps_per_epoch=int(len(X_train0)/batch_size), epochs=epochs,\n",
    "                                      validation_data=(X_val0, Y_val0), callbacks=[early_stopping])\n",
    "    \n",
    "    fig = plt.figure(figsize=(8,4))\n",
    "    plt.plot(hist.history['acc'], linewidth=2, color='black', label='Training accuracy')\n",
    "    plt.plot(hist.history['val_acc'], linewidth=2, color='blue', label='Validation accuracy')\n",
    "    plt.title('Model number %i' %i)\n",
    "    plt.ylabel('loss')\n",
    "    plt.xlabel('Epoch')\n",
    "    plt.legend(loc='best')\n",
    "    plt.show()\n",
    "    \n",
    "time_end = time.time()\n",
    "print('Total run time %f seconds' %(time_end-time_start))"
   ]
  },
  {
   "cell_type": "code",
   "execution_count": 18,
   "metadata": {},
   "outputs": [
    {
     "data": {
      "text/plain": [
       "3765"
      ]
     },
     "execution_count": 18,
     "metadata": {},
     "output_type": "execute_result"
    }
   ],
   "source": [
    "gc.collect()"
   ]
  },
  {
   "cell_type": "markdown",
   "metadata": {},
   "source": [
    "<a id=\"ch4\"></a>\n",
    "\n",
    "## 4. Making prediction and visualize the results\n",
    "\n",
    "The model takes approximately 12 minutes to run and achieve the accuracy of 99%. This number will slightly change depending on the random state you choose when splitting the change/test set. Now let's average all models for the final predictions"
   ]
  },
  {
   "cell_type": "code",
   "execution_count": 19,
   "metadata": {},
   "outputs": [
    {
     "name": "stdout",
     "output_type": "stream",
     "text": [
      "Final accuracy score: 0.9898\n"
     ]
    }
   ],
   "source": [
    "Y_pred = 0\n",
    "for i in range(n_folds):\n",
    "    Y_pred0 = models[i].predict(X_test)\n",
    "    Y_pred = Y_pred+Y_pred0\n",
    "    \n",
    "Y_pred = Y_pred/n_folds\n",
    "Y_pred = Y_pred[:,:].argmax(axis=1)\n",
    "Y_test_orig = Y_test[:,:].argmax(axis=1)\n",
    "score = accuracy_score(Y_test_orig, Y_pred)\n",
    "print('Final accuracy score: %.4f' %score)"
   ]
  },
  {
   "cell_type": "markdown",
   "metadata": {},
   "source": [
    "Now let us take a look at some example where the model gives the **wrong predictions**"
   ]
  },
  {
   "cell_type": "code",
   "execution_count": 20,
   "metadata": {},
   "outputs": [
    {
     "data": {
      "image/png": "[encoded data removed]",
      "text/plain": [
       "<Figure size 720x288 with 8 Axes>"
      ]
     },
     "metadata": {
      "needs_background": "light"
     },
     "output_type": "display_data"
    }
   ],
   "source": [
    "idx_error = np.where((Y_pred-Y_test_orig)!=0)\n",
    "\n",
    "# Plot the error images\n",
    "fig = plt.figure(figsize=(10,4))\n",
    "for i in range(8):\n",
    "    idx = idx_error[0][i]\n",
    "    ax = fig.add_subplot(2,4,i+1)\n",
    "    plt.imshow(X_test[idx,:,:,0], cmap='gray')\n",
    "    ax.set_title('Label: %i. Pred: %i.' %(Y_test_orig[idx], Y_pred[idx]))\n",
    "    \n",
    "plt.tight_layout()"
   ]
  },
  {
   "cell_type": "markdown",
   "metadata": {},
   "source": [
    "In many of these examples, the hand-writting is strongly distorted and it is difficult even for human to make the right prediction."
   ]
  }
 ],
 "metadata": {
  "kernelspec": {
   "display_name": "Python 3",
   "language": "python",
   "name": "python3"
  },
  "language_info": {
   "codemirror_mode": {
    "name": "ipython",
    "version": 3
   },
   "file_extension": ".py",
   "mimetype": "text/x-python",
   "name": "python",
   "nbconvert_exporter": "python",
   "pygments_lexer": "ipython3",
   "version": "3.5.6"
  }
 },
 "nbformat": 4,
 "nbformat_minor": 2
}
