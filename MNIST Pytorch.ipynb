{
 "cells": [
  {
   "cell_type": "markdown",
   "metadata": {},
   "source": [
    "# Digit recognizer with Pytorch\n",
    "### Nguyen Dang Minh, PhD"
   ]
  },
  {
   "cell_type": "code",
   "execution_count": 1,
   "metadata": {},
   "outputs": [
    {
     "name": "stderr",
     "output_type": "stream",
     "text": [
      "Using TensorFlow backend.\n"
     ]
    }
   ],
   "source": [
    "%matplotlib inline\n",
    "import pandas as pd\n",
    "import numpy as np\n",
    "import matplotlib.pyplot as plt\n",
    "import matplotlib.cm as cm\n",
    "from matplotlib import rcParams\n",
    "import random\n",
    "from sklearn.model_selection import train_test_split, StratifiedKFold, KFold\n",
    "from sklearn.metrics import accuracy_score\n",
    "from clr_callback import *\n",
    "import time\n",
    "\n",
    "import gc\n",
    "\n",
    "import torch\n",
    "import torchvision\n",
    "import torch.nn as nn\n",
    "import torch.nn.functional as F\n",
    "import torch.optim as optim\n",
    "from torchvision import datasets, transforms\n",
    "from torch.utils.data import DataLoader, Dataset\n",
    "from torch.autograd import Variable\n",
    "import torchsample as ts\n",
    "torch.set_default_tensor_type('torch.DoubleTensor')\n",
    "\n",
    "rcParams['font.size']=14\n",
    "random.seed(1)\n",
    "\n",
    "import warnings\n",
    "warnings.filterwarnings(\"ignore\")"
   ]
  },
  {
   "cell_type": "code",
   "execution_count": 2,
   "metadata": {},
   "outputs": [],
   "source": [
    "# MODELS PARAMETERS\n",
    "batch_size = 512\n",
    "epochs = 20"
   ]
  },
  {
   "cell_type": "markdown",
   "metadata": {},
   "source": [
    "# Data preparation"
   ]
  },
  {
   "cell_type": "markdown",
   "metadata": {},
   "source": [
    "### Importing data"
   ]
  },
  {
   "cell_type": "code",
   "execution_count": 3,
   "metadata": {},
   "outputs": [],
   "source": [
    "# Import data\n",
    "dataset_orig = pd.read_csv('Data/train.csv')\n",
    "select_idx = random.sample(range(0,len(dataset_orig)), 2200)\n",
    "X_orig = dataset_orig.iloc[:,1:].values\n",
    "Y_orig = dataset_orig.iloc[:,0:1].values"
   ]
  },
  {
   "cell_type": "code",
   "execution_count": 4,
   "metadata": {},
   "outputs": [],
   "source": [
    "# Reshape and normalize\n",
    "X_train, X_test, y_train, y_test = train_test_split(X_orig, Y_orig, test_size=0.2)"
   ]
  },
  {
   "cell_type": "code",
   "execution_count": 5,
   "metadata": {},
   "outputs": [],
   "source": [
    "class DatasetMNist(Dataset):\n",
    "    def __init__(self, X_set, y_set, transform=None):\n",
    "        self.dataX = X_set\n",
    "        self.dataY = y_set\n",
    "        self.transform = transform\n",
    "        \n",
    "    def __len__(self):\n",
    "        return len(self.dataY)\n",
    "    \n",
    "    def __getitem__(self, index):\n",
    "        image = self.dataX[index,:].astype(np.uint8).reshape((28,28,1))\n",
    "        label = self.dataY[index,0]\n",
    "        \n",
    "        if self.transform is not None:\n",
    "            image = self.transform(image)\n",
    "    \n",
    "        return image, label"
   ]
  },
  {
   "cell_type": "markdown",
   "metadata": {},
   "source": [
    "### Data loader"
   ]
  },
  {
   "cell_type": "code",
   "execution_count": 6,
   "metadata": {},
   "outputs": [],
   "source": [
    "mean=[0.485, 0.456, 0.406]\n",
    "std=[0.229, 0.224, 0.225]\n",
    "\n",
    "data_transforms = {\n",
    "    'train': transforms.Compose([\n",
    "        transforms.ToPILImage(),\n",
    "        transforms.RandomRotation(20),\n",
    "        transforms.RandomResizedCrop(28,scale=(0.8,1.0)),\n",
    "        transforms.ToTensor(),\n",
    "        transforms.Normalize(mean, std),\n",
    "        ]),\n",
    "    'val': transforms.Compose([\n",
    "        transforms.ToTensor(),\n",
    "        transforms.Normalize(mean, std)\n",
    "    ])\n",
    "}\n",
    "\n",
    "train_dataset = DatasetMNist(X_train, y_train, transform=data_transforms['train'])\n",
    "test_dataset = DatasetMNist(X_test, y_test, transform=data_transforms['val'])"
   ]
  },
  {
   "cell_type": "code",
   "execution_count": 7,
   "metadata": {},
   "outputs": [
    {
     "name": "stdout",
     "output_type": "stream",
     "text": [
      "torch.Size([1, 28, 28])\n",
      "<class 'torch.Tensor'>\n"
     ]
    }
   ],
   "source": [
    "img, lab = train_dataset.__getitem__(0)\n",
    "print(img.shape)\n",
    "print(type(img))"
   ]
  },
  {
   "cell_type": "code",
   "execution_count": 8,
   "metadata": {},
   "outputs": [],
   "source": [
    "# Data loader demo\n",
    "train_loader_demo = DataLoader(train_dataset, batch_size=8, shuffle=False)"
   ]
  },
  {
   "cell_type": "code",
   "execution_count": 9,
   "metadata": {},
   "outputs": [
    {
     "name": "stdout",
     "output_type": "stream",
     "text": [
      "images shape on batch size = torch.Size([8, 1, 28, 28])\n",
      "labels shape on batch size = torch.Size([8])\n"
     ]
    }
   ],
   "source": [
    "train_iter = iter(train_loader_demo)\n",
    "images, labels = train_iter.next()\n",
    "\n",
    "print('images shape on batch size = {}'.format(images.size()))\n",
    "print('labels shape on batch size = {}'.format(labels.size()))"
   ]
  },
  {
   "cell_type": "code",
   "execution_count": 10,
   "metadata": {},
   "outputs": [
    {
     "name": "stderr",
     "output_type": "stream",
     "text": [
      "Clipping input data to the valid range for imshow with RGB data ([0..1] for floats or [0..255] for integers).\n"
     ]
    },
    {
     "data": {
      "image/png": "[encoded data removed]",
      "text/plain": [
       "<Figure size 432x288 with 1 Axes>"
      ]
     },
     "metadata": {
      "needs_background": "light"
     },
     "output_type": "display_data"
    }
   ],
   "source": [
    "# make grid takes tensor as arg\n",
    "grid = torchvision.utils.make_grid(images)\n",
    "\n",
    "plt.imshow(grid.numpy().transpose((1, 2, 0)))\n",
    "plt.axis('off')\n",
    "plt.title(labels.reshape(1,-1).numpy());"
   ]
  },
  {
   "cell_type": "code",
   "execution_count": 11,
   "metadata": {},
   "outputs": [],
   "source": [
    "# Main data loader\n",
    "train_loader = DataLoader(train_dataset, batch_size=batch_size, shuffle=False)\n",
    "test_loader = DataLoader(test_dataset, batch_size=batch_size, shuffle=False)"
   ]
  },
  {
   "cell_type": "markdown",
   "metadata": {},
   "source": [
    "## Building model"
   ]
  },
  {
   "cell_type": "code",
   "execution_count": 12,
   "metadata": {},
   "outputs": [],
   "source": [
    "class CNN(nn.Module):\n",
    "    def __init__(self):\n",
    "        super(CNN,self).__init__()\n",
    "        self.cnn1 = nn.Conv2d(in_channels=1, out_channels=16, stride=1, kernel_size=5)\n",
    "        self.cnn2 = nn.Conv2d(in_channels=16, out_channels=32, stride=1, kernel_size=5)\n",
    "        self.relu = nn.ReLU()\n",
    "        self.maxpool = nn.MaxPool2d(2,2)\n",
    "        self.dropout = nn.Dropout(p=0.2)\n",
    "        self.dropout2d = nn.Dropout2d(p=0.2)\n",
    "        \n",
    "        self.fc1 = nn.Linear(32*4*4, 128)\n",
    "        self.fc2 = nn.Linear(128,64)\n",
    "        self.out = nn.Linear(64,10)\n",
    "        \n",
    "    def forward(self,x):\n",
    "        x = self.cnn1(x)\n",
    "        x = self.relu(x)\n",
    "        x = self.dropout2d(x)\n",
    "        x = self.maxpool(x)\n",
    "        \n",
    "        x = self.cnn2(x)\n",
    "        x = self.relu(x)\n",
    "        x = self.dropout2d(x)\n",
    "        x = self.maxpool(x)\n",
    "        \n",
    "        x = x.view(x.size(0),-1)\n",
    "        x = self.fc1(x)\n",
    "        x = self.dropout(x)\n",
    "        x = self.fc2(x)\n",
    "        x = self.dropout(x)\n",
    "        x = self.out(x)\n",
    "        \n",
    "        return x"
   ]
  },
  {
   "cell_type": "code",
   "execution_count": 13,
   "metadata": {},
   "outputs": [
    {
     "name": "stdout",
     "output_type": "stream",
     "text": [
      "CNN(\n",
      "  (cnn1): Conv2d(1, 16, kernel_size=(5, 5), stride=(1, 1))\n",
      "  (cnn2): Conv2d(16, 32, kernel_size=(5, 5), stride=(1, 1))\n",
      "  (relu): ReLU()\n",
      "  (maxpool): MaxPool2d(kernel_size=2, stride=2, padding=0, dilation=1, ceil_mode=False)\n",
      "  (dropout): Dropout(p=0.2)\n",
      "  (dropout2d): Dropout2d(p=0.2)\n",
      "  (fc1): Linear(in_features=512, out_features=128, bias=True)\n",
      "  (fc2): Linear(in_features=128, out_features=64, bias=True)\n",
      "  (out): Linear(in_features=64, out_features=10, bias=True)\n",
      ")\n"
     ]
    }
   ],
   "source": [
    "model = CNN()\n",
    "model = model.float()\n",
    "print(model)"
   ]
  },
  {
   "cell_type": "code",
   "execution_count": 14,
   "metadata": {},
   "outputs": [],
   "source": [
    "criterion = nn.CrossEntropyLoss()\n",
    "optimizer = torch.optim.Adam(model.parameters(), lr=0.002)"
   ]
  },
  {
   "cell_type": "markdown",
   "metadata": {},
   "source": [
    "## Training model"
   ]
  },
  {
   "cell_type": "code",
   "execution_count": 15,
   "metadata": {},
   "outputs": [],
   "source": [
    "def train_model(model, decay, criterion, train_loader, test_loader, optimizer, num_epochs):\n",
    "    train_loss = []\n",
    "    test_loss = []\n",
    "    train_accuracy = []\n",
    "    test_accuracy = []\n",
    "    total_train = len(train_loader.dataset)\n",
    "    total_test = len(test_loader.dataset)\n",
    "    \n",
    "    for epoch in range(num_epochs):\n",
    "        correct = 0\n",
    "        running_loss = 0\n",
    "        \n",
    "        # Decay learning rate\n",
    "        if (decay==True):\n",
    "            for param in optimizer.param_groups:\n",
    "                LR = param['lr']*0.99\n",
    "                param['lr'] = np.max(param['lr'], 0.001)\n",
    "        \n",
    "        # Training\n",
    "        model.train()\n",
    "        for images, labels in train_loader:\n",
    "            train = Variable(images)\n",
    "            labels = Variable(labels)\n",
    "\n",
    "            optimizer.zero_grad()\n",
    "            output = model(train)\n",
    "            loss = criterion(output, labels)\n",
    "            prediction = np.argmax(output.data,1)\n",
    "            correct += np.equal(prediction, labels.data).sum()\n",
    "            running_loss += loss.item()\n",
    "            \n",
    "            loss.backward()\n",
    "            optimizer.step()\n",
    "            del images, labels\n",
    "            \n",
    "        correct_train = correct.data.numpy()/total_train\n",
    "        loss_train = running_loss/total_train\n",
    "        train_accuracy.append(correct_train)\n",
    "        train_loss.append(loss_train)\n",
    "\n",
    "        # Testing\n",
    "        with torch.no_grad():\n",
    "            model.eval()\n",
    "            correct = 0\n",
    "            running_loss = 0\n",
    "            total = 0\n",
    "            \n",
    "            for images, labels in test_loader:\n",
    "                test = Variable(images)\n",
    "                labels = Variable(labels)\n",
    "                output = model(test)\n",
    "                loss = criterion(output, labels)\n",
    "                prediction = np.argmax(output.data,1)\n",
    "                correct += np.equal(prediction, labels.data).sum()\n",
    "                running_loss += loss.item()\n",
    "                total += labels.size(0)\n",
    "                \n",
    "            correct_test = correct.data.numpy()/total_test\n",
    "            loss_test = running_loss/total_test\n",
    "            test_accuracy.append(correct_test)\n",
    "            test_loss.append(loss_test)\n",
    "        \n",
    "        # Prin result\n",
    "        print(\"Epoch: {}/{} -- \".format(epoch+1,num_epochs),\n",
    "              \"Training accuracy: {:.5f} -- \".format(correct_train),\n",
    "              \"Test accuracy: {:.5f}\".format(correct_test))\n",
    "       \n",
    "    dictionary = {'train_loss': train_loss,\n",
    "                  'train_accuracy': train_accuracy,\n",
    "                  'test_loss': test_loss,\n",
    "                  'test_accuracy': test_accuracy}\n",
    "    return model, dictionary"
   ]
  },
  {
   "cell_type": "code",
   "execution_count": 16,
   "metadata": {},
   "outputs": [
    {
     "name": "stdout",
     "output_type": "stream",
     "text": [
      "Epoch: 1/20 --  Training accuracy: 0.75226 --  Test accuracy: 0.95417\n",
      "Epoch: 2/20 --  Training accuracy: 0.91122 --  Test accuracy: 0.97619\n",
      "Epoch: 3/20 --  Training accuracy: 0.92815 --  Test accuracy: 0.97905\n",
      "Epoch: 4/20 --  Training accuracy: 0.93827 --  Test accuracy: 0.97833\n",
      "Epoch: 5/20 --  Training accuracy: 0.94104 --  Test accuracy: 0.98095\n",
      "Epoch: 6/20 --  Training accuracy: 0.94307 --  Test accuracy: 0.98226\n",
      "Epoch: 7/20 --  Training accuracy: 0.94920 --  Test accuracy: 0.98214\n",
      "Epoch: 8/20 --  Training accuracy: 0.94836 --  Test accuracy: 0.98464\n",
      "Epoch: 9/20 --  Training accuracy: 0.95092 --  Test accuracy: 0.98524\n",
      "Epoch: 10/20 --  Training accuracy: 0.95318 --  Test accuracy: 0.98274\n",
      "Epoch: 11/20 --  Training accuracy: 0.95461 --  Test accuracy: 0.98607\n",
      "Epoch: 12/20 --  Training accuracy: 0.95315 --  Test accuracy: 0.98595\n",
      "Epoch: 13/20 --  Training accuracy: 0.95607 --  Test accuracy: 0.98619\n",
      "Epoch: 14/20 --  Training accuracy: 0.95592 --  Test accuracy: 0.98726\n",
      "Epoch: 15/20 --  Training accuracy: 0.95878 --  Test accuracy: 0.98690\n",
      "Epoch: 16/20 --  Training accuracy: 0.95982 --  Test accuracy: 0.98714\n",
      "Epoch: 17/20 --  Training accuracy: 0.95926 --  Test accuracy: 0.98679\n",
      "Epoch: 18/20 --  Training accuracy: 0.96003 --  Test accuracy: 0.98702\n",
      "Epoch: 19/20 --  Training accuracy: 0.96387 --  Test accuracy: 0.98667\n",
      "Epoch: 20/20 --  Training accuracy: 0.96080 --  Test accuracy: 0.98810\n"
     ]
    }
   ],
   "source": [
    "model_out, result_dict = train_model(model, \n",
    "                                    decay=False, \n",
    "                                    criterion=criterion, \n",
    "                                    train_loader=train_loader,\n",
    "                                    test_loader=test_loader,\n",
    "                                    optimizer=optimizer,\n",
    "                                    num_epochs=epochs)"
   ]
  },
  {
   "cell_type": "code",
   "execution_count": 17,
   "metadata": {},
   "outputs": [
    {
     "data": {
      "text/plain": [
       "<matplotlib.legend.Legend at 0x7fe2d881b8d0>"
      ]
     },
     "execution_count": 17,
     "metadata": {},
     "output_type": "execute_result"
    },
    {
     "data": {
      "image/png": "[encoded data removed]",
      "text/plain": [
       "<Figure size 432x288 with 1 Axes>"
      ]
     },
     "metadata": {
      "needs_background": "light"
     },
     "output_type": "display_data"
    }
   ],
   "source": [
    "plt.plot(result_dict['train_accuracy'], label='Training accuracy')\n",
    "plt.plot(result_dict['test_accuracy'], label='Validation accuracy')\n",
    "plt.legend(loc='best')"
   ]
  },
  {
   "cell_type": "code",
   "execution_count": null,
   "metadata": {},
   "outputs": [],
   "source": []
  }
 ],
 "metadata": {
  "kernelspec": {
   "display_name": "Python 3",
   "language": "python",
   "name": "python3"
  },
  "language_info": {
   "codemirror_mode": {
    "name": "ipython",
    "version": 3
   },
   "file_extension": ".py",
   "mimetype": "text/x-python",
   "name": "python",
   "nbconvert_exporter": "python",
   "pygments_lexer": "ipython3",
   "version": "3.5.6"
  }
 },
 "nbformat": 4,
 "nbformat_minor": 2
}
